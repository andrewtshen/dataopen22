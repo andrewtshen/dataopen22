{
 "cells": [
  {
   "cell_type": "code",
   "execution_count": 1,
   "id": "ad4046a1",
   "metadata": {},
   "outputs": [],
   "source": [
    "import numpy as np\n",
    "import pandas as pd\n",
    "import seaborn as sns\n",
    "import re\n",
    "%matplotlib inline"
   ]
  },
  {
   "cell_type": "code",
   "execution_count": 2,
   "id": "9b7799ff",
   "metadata": {},
   "outputs": [],
   "source": [
    "dataset = pd.read_csv('./Diabetes_Data_1999_2008.csv')\n",
    "admission_src = pd.read_csv('./Admission_Source_Mapping.csv')\n",
    "admission_type = pd.read_csv('./Admission_Type_Mapping.csv')\n",
    "discharge_disposition = pd.read_csv('./Discharge_Disposition_Mapping.csv')"
   ]
  },
  {
   "cell_type": "code",
   "execution_count": 4,
   "id": "a80b695c",
   "metadata": {},
   "outputs": [
    {
     "name": "stdout",
     "output_type": "stream",
     "text": [
      "        num_medications  diag_1             race  gender      age\n",
      "0                     1      50        Caucasian  Female   [0-10)\n",
      "2                    13      50  AfricanAmerican  Female  [20-30)\n",
      "3                    16      45        Caucasian    Male  [30-40)\n",
      "4                     8      50        Caucasian    Male  [40-50)\n",
      "6                    21       0        Caucasian    Male  [60-70)\n",
      "...                 ...     ...              ...     ...      ...\n",
      "101759               15      21        Caucasian    Male  [80-90)\n",
      "101762               18      26  AfricanAmerican  Female  [80-90)\n",
      "101763                9      10        Caucasian    Male  [70-80)\n",
      "101764               21      11        Caucasian  Female  [80-90)\n",
      "101765                3      37        Caucasian    Male  [70-80)\n",
      "\n",
      "[53316 rows x 5 columns]\n"
     ]
    }
   ],
   "source": [
    "cleaned_df = dataset[dataset.readmitted == \"NO\"] #only looking at first encounters\n",
    "cleaned_df = cleaned_df[cleaned_df.discharge_disposition_id != {18, 19, 20}]\n",
    "cleaned_df = cleaned_df.iloc[:, :19]\n",
    "numMed = cleaned_df.iloc[:, 14:15]\n",
    "demographics_df = cleaned_df.iloc[:, 2:5]\n",
    "diag1_df = cleaned_df.iloc[:, 18:19]\n",
    "cleaned_df = pd.concat([numMed, diag1_df, demographics_df], axis = 1, join = 'inner')\n",
    "cleaned_df = cleaned_df[cleaned_df.race != \"?\"]\n",
    "cleaned_df = cleaned_df[cleaned_df.gender != \"Unknown/Invalid\"]\n",
    "diag_1Map = {}\n",
    "diag_1List = cleaned_df[\"diag_1\"].value_counts().index.tolist()[:50]\n",
    "\n",
    "diag_1Count = cleaned_df[\"diag_1\"].value_counts().values.tolist()[:50]\n",
    "\n",
    "for i, v in enumerate(diag_1List):\n",
    "    diag_1Map[v] = i\n",
    "for i in cleaned_df.diag_1:\n",
    "    if i not in diag_1Map:\n",
    "        diag_1Map[i] = 50\n",
    "\n",
    "cleaned_df[\"diag_1\"] = cleaned_df[\"diag_1\"].map(diag_1Map)\n",
    "\n",
    "print(cleaned_df)"
   ]
  },
  {
   "cell_type": "code",
   "execution_count": 6,
   "id": "a512aa05",
   "metadata": {},
   "outputs": [
    {
     "ename": "NameError",
     "evalue": "name 'df' is not defined",
     "output_type": "error",
     "traceback": [
      "\u001b[1;31m---------------------------------------------------------------------------\u001b[0m",
      "\u001b[1;31mNameError\u001b[0m                                 Traceback (most recent call last)",
      "\u001b[1;32m~\\AppData\\Local\\Temp/ipykernel_1396/3640216526.py\u001b[0m in \u001b[0;36m<module>\u001b[1;34m\u001b[0m\n\u001b[1;32m----> 1\u001b[1;33m \u001b[0mdf\u001b[0m\u001b[1;33m.\u001b[0m\u001b[0mto_csv\u001b[0m\u001b[1;33m(\u001b[0m\u001b[1;34m\"cleaned_data.csv\"\u001b[0m\u001b[1;33m,\u001b[0m \u001b[0mcleaned_df\u001b[0m\u001b[1;33m)\u001b[0m\u001b[1;33m\u001b[0m\u001b[1;33m\u001b[0m\u001b[0m\n\u001b[0m",
      "\u001b[1;31mNameError\u001b[0m: name 'df' is not defined"
     ]
    }
   ],
   "source": [
    "cleaneddf.to_csv(\"cleaned_data.csv\")"
   ]
  },
  {
   "cell_type": "code",
   "execution_count": null,
   "id": "4a685f58",
   "metadata": {},
   "outputs": [],
   "source": []
  }
 ],
 "metadata": {
  "kernelspec": {
   "display_name": "Python 3 (ipykernel)",
   "language": "python",
   "name": "python3"
  },
  "language_info": {
   "codemirror_mode": {
    "name": "ipython",
    "version": 3
   },
   "file_extension": ".py",
   "mimetype": "text/x-python",
   "name": "python",
   "nbconvert_exporter": "python",
   "pygments_lexer": "ipython3",
   "version": "3.7.11"
  }
 },
 "nbformat": 4,
 "nbformat_minor": 5
}
