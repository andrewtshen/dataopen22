{
 "cells": [
  {
   "cell_type": "code",
   "execution_count": 23,
   "id": "ad4046a1",
   "metadata": {},
   "outputs": [],
   "source": [
    "import numpy as np\n",
    "import pandas as pd\n",
    "import seaborn as sns\n",
    "import re\n",
    "from statistics import mean\n",
    "%matplotlib inline"
   ]
  },
  {
   "cell_type": "code",
   "execution_count": 2,
   "id": "9b7799ff",
   "metadata": {},
   "outputs": [],
   "source": [
    "dataset = pd.read_csv('./Diabetes_Data_1999_2008.csv')\n",
    "admission_src = pd.read_csv('./Admission_Source_Mapping.csv')\n",
    "admission_type = pd.read_csv('./Admission_Type_Mapping.csv')\n",
    "discharge_disposition = pd.read_csv('./Discharge_Disposition_Mapping.csv')"
   ]
  },
  {
   "cell_type": "code",
   "execution_count": 14,
   "id": "a80b695c",
   "metadata": {},
   "outputs": [
    {
     "name": "stdout",
     "output_type": "stream",
     "text": [
      "        num_medications  diag_1             race  gender      age  \\\n",
      "0                     1      50        Caucasian  Female   [0-10)   \n",
      "2                    13      50  AfricanAmerican  Female  [20-30)   \n",
      "3                    16      45        Caucasian    Male  [30-40)   \n",
      "4                     8      50        Caucasian    Male  [40-50)   \n",
      "6                    21       0        Caucasian    Male  [60-70)   \n",
      "...                 ...     ...              ...     ...      ...   \n",
      "101759               15      21        Caucasian    Male  [80-90)   \n",
      "101762               18      26  AfricanAmerican  Female  [80-90)   \n",
      "101763                9      10        Caucasian    Male  [70-80)   \n",
      "101764               21      11        Caucasian  Female  [80-90)   \n",
      "101765                3      37        Caucasian    Male  [70-80)   \n",
      "\n",
      "        admission_source_id  time_in_hospital  \n",
      "0                         1                 1  \n",
      "2                         0                 2  \n",
      "3                         0                 2  \n",
      "4                         0                 1  \n",
      "6                         5                 4  \n",
      "...                     ...               ...  \n",
      "101759                    0                 1  \n",
      "101762                    5                 5  \n",
      "101763                    0                 1  \n",
      "101764                    0                10  \n",
      "101765                    0                 6  \n",
      "\n",
      "[53316 rows x 7 columns]\n"
     ]
    }
   ],
   "source": [
    "cleaned_df = dataset[dataset.readmitted == \"NO\"] #only looking at first encounters\n",
    "cleaned_df = cleaned_df[cleaned_df.discharge_disposition_id != {18, 19, 20}]\n",
    "\n",
    "admission_source = cleaned_df.iloc[:, 8:9]\n",
    "timeHosp = cleaned_df.iloc[:, 9:10]\n",
    "cleaned_df = cleaned_df.iloc[:, :19]\n",
    "numMed = cleaned_df.iloc[:, 14:15]\n",
    "demographics_df = cleaned_df.iloc[:, 2:5]\n",
    "diag1_df = cleaned_df.iloc[:, 18:19]\n",
    "cleaned_df = pd.concat([numMed, diag1_df, demographics_df, admission_source, timeHosp], axis = 1, join = 'inner')\n",
    "cleaned_df = cleaned_df[cleaned_df.race != \"?\"]\n",
    "cleaned_df = cleaned_df[cleaned_df.gender != \"Unknown/Invalid\"]\n",
    "\n",
    "admin_srcMap = {}\n",
    "admin_List = cleaned_df[\"admission_source_id\"].value_counts().index.tolist()[:5]\n",
    "\n",
    "for i, v in enumerate(admin_List):\n",
    "    admin_srcMap[v] = i\n",
    "for i in cleaned_df.admission_source_id:\n",
    "    if i not in admin_srcMap:\n",
    "        admin_srcMap[i] = 5\n",
    "\n",
    "cleaned_df[\"admission_source_id\"] = cleaned_df[\"admission_source_id\"].map(admin_srcMap)\n",
    "\n",
    "diag_1Map = {}\n",
    "diag_1List = cleaned_df[\"diag_1\"].value_counts().index.tolist()[:50]\n",
    "diag_1Count = cleaned_df[\"diag_1\"].value_counts().values.tolist()[:50]\n",
    "\n",
    "for i, v in enumerate(diag_1List):\n",
    "    diag_1Map[v] = i\n",
    "for i in cleaned_df.diag_1:\n",
    "    if i not in diag_1Map:\n",
    "        diag_1Map[i] = 50\n",
    "\n",
    "cleaned_df[\"diag_1\"] = cleaned_df[\"diag_1\"].map(diag_1Map)\n",
    "\n",
    "print(cleaned_df)"
   ]
  },
  {
   "cell_type": "code",
   "execution_count": 15,
   "id": "ccbaf3c4",
   "metadata": {},
   "outputs": [],
   "source": [
    "cleaned_df.to_csv(\"cleaned_data.csv\", index = False)"
   ]
  },
  {
   "cell_type": "code",
   "execution_count": 25,
   "id": "2fee1c75",
   "metadata": {},
   "outputs": [
    {
     "name": "stdout",
     "output_type": "stream",
     "text": [
      "{50: 14.979, 45: 14.041, 0: 20.55, 7: 12.084, 1: 16.295, 9: 14.691, 3: 20.716, 2: 11.328, 5: 13.974, 14: 15.339, 31: 15.96, 23: 19.083, 41: 11.203, 47: 15.876, 4: 16.283, 36: 12.393, 29: 17.352, 20: 17.598, 34: 19.711, 26: 13.664, 22: 13.795, 48: 15.881, 12: 17.826, 30: 14.833, 17: 19.853, 33: 9.519, 18: 19.724, 25: 11.22, 10: 17.498, 19: 14.375, 24: 14.193, 8: 10.879, 11: 18.922, 15: 13.431, 28: 10.317, 40: 19.627, 44: 18.992, 37: 12.99, 6: 21.411, 27: 16.64, 16: 13.399, 13: 11.654, 35: 17.546, 21: 10.909, 46: 12.092, 49: 12.702, 32: 19.323, 42: 11.888, 38: 12.539, 43: 15.749, 39: 16.739}\n"
     ]
    }
   ],
   "source": [
    "cumMed = {}\n",
    "for index, row in cleaned_df.iterrows():\n",
    "    if row[\"diag_1\"] not in cumMed:\n",
    "        cumMed[row[\"diag_1\"]] = [row[\"num_medications\"]]\n",
    "    else:\n",
    "        cumMed[row[\"diag_1\"]].append(row[\"num_medications\"])\n",
    "avgMed = {}\n",
    "for i in cumMed:\n",
    "    avgMed[i] = round(mean(cumMed[i]), 3)"
   ]
  },
  {
   "cell_type": "code",
   "execution_count": 34,
   "id": "962f566e",
   "metadata": {},
   "outputs": [],
   "source": [
    "diagName = pd.read_table('./V26 I-9 Diagnosis.txt', )"
   ]
  },
  {
   "cell_type": "code",
   "execution_count": 38,
   "id": "c757e606",
   "metadata": {},
   "outputs": [
    {
     "name": "stdout",
     "output_type": "stream",
     "text": [
      "                        ID  Diagnosis\n",
      "0      0010  CHOLERA D/T VIB CHOLERAE\n",
      "1        0011  CHOLERA D/T VIB EL TOR\n",
      "2                   0019  CHOLERA NOS\n",
      "3                 0020  TYPHOID FEVER\n",
      "4           0021  PARATYPHOID FEVER A\n",
      "...                               ...\n",
      "14020  V8902 SUS PLACENTL PROB NT FND\n",
      "14021  V8903 SUS FETAL ANOMALY NT FND\n",
      "14022  V8904 SUS FETAL GROWTH NOT FND\n",
      "14023  V8905 SUS CERVCL SHORTN NT FND\n",
      "14024    V8909 OTH SUS MAT/FTL NT FND\n",
      "\n",
      "[14025 rows x 1 columns]\n"
     ]
    }
   ],
   "source": [
    "print(diagName)"
   ]
  },
  {
   "cell_type": "code",
   "execution_count": null,
   "id": "06cd2fde",
   "metadata": {},
   "outputs": [],
   "source": []
  }
 ],
 "metadata": {
  "kernelspec": {
   "display_name": "Python 3 (ipykernel)",
   "language": "python",
   "name": "python3"
  },
  "language_info": {
   "codemirror_mode": {
    "name": "ipython",
    "version": 3
   },
   "file_extension": ".py",
   "mimetype": "text/x-python",
   "name": "python",
   "nbconvert_exporter": "python",
   "pygments_lexer": "ipython3",
   "version": "3.7.11"
  }
 },
 "nbformat": 4,
 "nbformat_minor": 5
}
